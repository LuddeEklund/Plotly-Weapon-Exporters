{
 "cells": [
  {
   "cell_type": "code",
   "execution_count": null,
   "metadata": {},
   "outputs": [],
   "source": [
    "import numpy as np \n",
    "import pandas as pd \n",
    "import plotly as py\n",
    "import plotly.express as px\n",
    "import plotly.graph_objs as go\n",
    "from pathlib import Path\n",
    "\n",
    "import os\n",
    "\n",
    "#Source: Stockholm International Peace Research Institute, SIPRI Arms Transfers Database\n",
    "# IMPORTER/EXPORTER TIV TABLES: http://armstrade.sipri.org/armstrade/page/toplist.php\n",
    "\n",
    "data_folder = Path(\"input/Sipri-dataset/\")  \n",
    "file_to_open = data_folder / \"TIV-Export-Top-50-2000-2019.csv\"  \n",
    "print(open(file_to_open).readlines())\n"
   ]
  },
  {
   "cell_type": "code",
   "execution_count": null,
   "metadata": {},
   "outputs": [],
   "source": [
    "df = pd.read_csv(file_to_open, skiprows = 8)\n",
    "df_orig = df.copy()\n",
    "df.head()"
   ]
  },
  {
   "cell_type": "code",
   "execution_count": null,
   "metadata": {},
   "outputs": [],
   "source": [
    "print(list(df))"
   ]
  },
  {
   "cell_type": "code",
   "execution_count": null,
   "metadata": {},
   "outputs": [],
   "source": [
    "df = df.drop(columns = ['Rank 2000-2019','Rank 1999-2018'])\n",
    "df.head()"
   ]
  },
  {
   "cell_type": "code",
   "execution_count": null,
   "metadata": {},
   "outputs": [],
   "source": [
    "fig = go.Figure(data=go.Choropleth(\n",
    "    locations = df['Supplier'],\n",
    "    locationmode =  'country names',  #'ISO-3'\n",
    "    z = df['2000-2019'],\n",
    "    colorscale = 'Reds',\n",
    "    marker_line_color = 'black',\n",
    "    marker_line_width = 0.5,\n",
    "))\n",
    "\n",
    "fig.update_layout(\n",
    "    title_text = 'TIV of arms exports from the top 50 largest exporters, 2000-2019',\n",
    "    title_x = 0.5,\n",
    "    geo=dict(\n",
    "        showframe = False,\n",
    "        showcoastlines = False,\n",
    "        projection_type = 'equirectangular'\n",
    "    )\n",
    ")\n",
    "\n",
    "#locationmode: Determines the set of locations used to match entries in `locations` to regions on the map\n",
    "#Parent: data[type=choropleth], Type: enumerated , one of ( \"ISO-3\" | \"USA-states\" | \"country names\" | \"geojson-id\" )\n",
    "#Default: \"ISO-3\"\n"
   ]
  },
  {
   "cell_type": "code",
   "execution_count": null,
   "metadata": {},
   "outputs": [],
   "source": [
    "df = df.drop(columns = ['2000-2019'])\n",
    "df.head(7)"
   ]
  },
  {
   "cell_type": "code",
   "execution_count": null,
   "metadata": {},
   "outputs": [],
   "source": [
    "#initialize Dataframe\n",
    "df_sort = pd.DataFrame()\n",
    "\n",
    "#Splitting and transpose DataFrame, so we got all biggest exporter countries separated\n",
    "#Plotly Express operates on \"tidy\" or \"long\" data rather than \"wide\" data, change DataFrame to columns:\n",
    "#Year, Country Value\n",
    "\n",
    "def split_DataFrame(df,start, stop):\n",
    "    df_1country = df[start:stop]\n",
    "    df_1country = df_1country.T  #transpose\n",
    "    df_1country[stop] = df['Supplier'].loc[start]\n",
    "    df_1country.rename_axis(\"Year\", axis = 'index', inplace=True)   #rename index,\n",
    "    df_1country.columns = ['Value', 'Country']\n",
    "    #df_1country = df_1country.drop([\"Supplier\"], axis = 0)   #drops 1st row\n",
    "    df_1country = df_1country.iloc[1:, ]   #delete first row using iloc selector\n",
    "    return df_1country\n",
    "\n",
    "for i in range (6):\n",
    "    df_temp = split_DataFrame(df, i, i+1)\n",
    "    df_sort = df_sort.append(df_temp)\n",
    "\n",
    "df_sort.tail()"
   ]
  },
  {
   "cell_type": "code",
   "execution_count": null,
   "metadata": {},
   "outputs": [],
   "source": [
    "df_tidy = df_sort.sort_values(by = ['Year', 'Country'])\n",
    "df_tidy.head(15)"
   ]
  },
  {
   "cell_type": "code",
   "execution_count": null,
   "metadata": {},
   "outputs": [],
   "source": [
    "df_tidy.tail(7)"
   ]
  },
  {
   "cell_type": "markdown",
   "metadata": {},
   "source": [
    "Most Plotly Express functions accept a color argument which automatically assigns data values to continuous color if the data is numeric. If the data contains strings, the color will automatically be considered discrete (also known as categorical or qualitative). This means that numeric strings must be parsed to be used for continuous color, and conversely, numbers used as category codes must be converted to strings.\n",
    "Source: https://plot.ly/python/colorscales/"
   ]
  },
  {
   "cell_type": "code",
   "execution_count": null,
   "metadata": {},
   "outputs": [],
   "source": [
    "df_tidy.dtypes"
   ]
  },
  {
   "cell_type": "code",
   "execution_count": null,
   "metadata": {},
   "outputs": [],
   "source": [
    "#https://stackoverflow.com/questions/15891038/change-data-type-of-columns-in-pandas\n",
    "df_tidy['Value'] = pd.to_numeric(df_tidy['Value'], downcast ='signed') # convert 'Value' to int"
   ]
  },
  {
   "cell_type": "code",
   "execution_count": null,
   "metadata": {},
   "outputs": [],
   "source": [
    "df_tidy.dtypes"
   ]
  },
  {
   "cell_type": "code",
   "execution_count": null,
   "metadata": {},
   "outputs": [],
   "source": [
    "print(list(df_tidy))"
   ]
  },
  {
   "cell_type": "code",
   "execution_count": null,
   "metadata": {},
   "outputs": [],
   "source": [
    "print(df_tidy.index)"
   ]
  },
  {
   "cell_type": "code",
   "execution_count": null,
   "metadata": {},
   "outputs": [],
   "source": [
    "fig = px.choropleth(df_tidy, \n",
    "                    locations=\"Country\", \n",
    "                    locationmode = \"country names\",\n",
    "                    color=\"Value\", \n",
    "                    #color_continuous_scale=px.colors.sequential.Plasma,\n",
    "                    color_continuous_scale=\"Viridis\",\n",
    "                    range_color=(0, 12000),\n",
    "                    labels={'Value':'TIV of arms exports'},\n",
    "                    hover_name=\"Value\", \n",
    "                    animation_frame= df_tidy.index   #animate over Years\n",
    "                   )\n",
    "\n",
    "fig.update_layout(\n",
    "    title_text = 'Weapon Exporters',\n",
    "    title_x = 0.5,\n",
    "    geo=dict(\n",
    "        showframe = False,\n",
    "        showcoastlines = False,\n",
    "    ))\n",
    "    \n",
    "fig.show()\n"
   ]
  },
  {
   "cell_type": "code",
   "execution_count": null,
   "metadata": {},
   "outputs": [],
   "source": [
    "fig = px.bar(df_tidy, y=\"Country\", x=\"Value\", color=\"Value\", range_color=(0, 12000), labels=\n",
    "             {'Value':'TIV of arms exports'},orientation=\"h\", color_continuous_scale=\n",
    "             'Viridis', animation_frame= df_tidy.index )\n",
    "\n",
    "fig.update_layout(\n",
    "    title_text = 'Weapon Exporters',\n",
    "    title_x = 0.5,\n",
    "    )\n",
    "\n",
    "fig.update_xaxes(range=[0, 12000])\n",
    "fig.show()"
   ]
  },
  {
   "cell_type": "code",
   "execution_count": null,
   "metadata": {},
   "outputs": [],
   "source": []
  }
 ],
 "metadata": {
  "kernelspec": {
   "display_name": "Python 3",
   "language": "python",
   "name": "python3"
  },
  "language_info": {
   "codemirror_mode": {
    "name": "ipython",
    "version": 3
   },
   "file_extension": ".py",
   "mimetype": "text/x-python",
   "name": "python",
   "nbconvert_exporter": "python",
   "pygments_lexer": "ipython3",
   "version": "3.7.4"
  }
 },
 "nbformat": 4,
 "nbformat_minor": 2
}
